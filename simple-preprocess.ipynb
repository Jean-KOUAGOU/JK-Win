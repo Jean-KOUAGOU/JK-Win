{
 "cells": [
  {
   "cell_type": "markdown",
   "id": "automated-minister",
   "metadata": {},
   "source": [
    "#### Preprocess"
   ]
  },
  {
   "cell_type": "code",
   "execution_count": 1,
   "id": "representative-capitol",
   "metadata": {
    "tags": []
   },
   "outputs": [],
   "source": [
    "import pandas as pd, numpy as np\n",
    "from tqdm import tqdm"
   ]
  },
  {
   "cell_type": "code",
   "execution_count": 2,
   "id": "typical-psychology",
   "metadata": {
    "tags": []
   },
   "outputs": [],
   "source": [
    "df_train = pd.read_csv(\"bbdc_2023_AWI_data_develop_professional.csv\")"
   ]
  },
  {
   "cell_type": "code",
   "execution_count": 3,
   "id": "mechanical-instruction",
   "metadata": {
    "tags": []
   },
   "outputs": [],
   "source": [
    "nan_counts = df_train.applymap(lambda x: x.count('NA'))"
   ]
  },
  {
   "cell_type": "code",
   "execution_count": 4,
   "id": "alike-truth",
   "metadata": {
    "tags": []
   },
   "outputs": [],
   "source": [
    "clean_cols = df_train.columns[0].split(';')"
   ]
  },
  {
   "cell_type": "code",
   "execution_count": 5,
   "id": "egyptian-management",
   "metadata": {
    "tags": []
   },
   "outputs": [],
   "source": [
    "clean_values = list(map(lambda x: x[0].split(';'), df_train.values))"
   ]
  },
  {
   "cell_type": "code",
   "execution_count": 6,
   "id": "empty-scanning",
   "metadata": {
    "tags": []
   },
   "outputs": [],
   "source": [
    "df_train_clean = pd.DataFrame(clean_values[1:], columns=clean_cols)"
   ]
  },
  {
   "cell_type": "code",
   "execution_count": 7,
   "id": "linear-angola",
   "metadata": {
    "tags": []
   },
   "outputs": [],
   "source": [
    "df_train_clean[\"Datum\"] = pd.to_datetime(df_train_clean[\"Datum\"], yearfirst=True, dayfirst=True)"
   ]
  },
  {
   "cell_type": "code",
   "execution_count": 8,
   "id": "statewide-replication",
   "metadata": {
    "tags": []
   },
   "outputs": [],
   "source": [
    "def handle_time(df):\n",
    "    c=0\n",
    "    values = []\n",
    "    for row in tqdm(df['Uhrzeit'], total=len(df)):\n",
    "        try:\n",
    "            pd.to_datetime(row)\n",
    "            values.append(row)\n",
    "        except ValueError:\n",
    "            df_train_clean.loc[c, 'Uhrzeit'] = \"NA\"\n",
    "        c+=1\n",
    "    df[\"Uhrzeit\"] = df[\"Uhrzeit\"].replace(\"NA\", pd.to_datetime(values).mean())\n",
    "    df[\"Uhrzeit\"] = pd.to_datetime(df[\"Uhrzeit\"], yearfirst=True, dayfirst=True)\n",
    "    return df"
   ]
  },
  {
   "cell_type": "code",
   "execution_count": 9,
   "id": "stuffed-centre",
   "metadata": {
    "tags": []
   },
   "outputs": [
    {
     "name": "stderr",
     "output_type": "stream",
     "text": [
      "100%|██████████| 17531/17531 [00:03<00:00, 5178.98it/s]\n",
      "/tmp/ipykernel_98938/3943007440.py:11: UserWarning: Could not infer format, so each element will be parsed individually, falling back to `dateutil`. To ensure parsing is consistent and as-expected, please specify a format.\n",
      "  df[\"Uhrzeit\"] = df[\"Uhrzeit\"].replace(\"NA\", pd.to_datetime(values).mean())\n"
     ]
    }
   ],
   "source": [
    "df_train_clean = handle_time(df_train_clean)"
   ]
  },
  {
   "cell_type": "code",
   "execution_count": 10,
   "id": "bibliographic-hurricane",
   "metadata": {
    "tags": []
   },
   "outputs": [],
   "source": [
    "min_date = df_train_clean['Datum'].min()"
   ]
  },
  {
   "cell_type": "code",
   "execution_count": 11,
   "id": "worthy-interaction",
   "metadata": {
    "tags": []
   },
   "outputs": [],
   "source": [
    "df_train_clean[\"Datum_Delta\"] = (df_train_clean['Datum'] - min_date)  / np.timedelta64(1,'Y')"
   ]
  },
  {
   "cell_type": "code",
   "execution_count": 12,
   "id": "defensive-removal",
   "metadata": {
    "tags": []
   },
   "outputs": [],
   "source": [
    "min_time = df_train_clean['Uhrzeit'].min()"
   ]
  },
  {
   "cell_type": "code",
   "execution_count": 13,
   "id": "weekly-peninsula",
   "metadata": {
    "tags": []
   },
   "outputs": [],
   "source": [
    "df_train_clean[\"Uhrzeit_Delta\"] = (df_train_clean['Uhrzeit'] - min_time)  / np.timedelta64(1,'h')"
   ]
  },
  {
   "cell_type": "code",
   "execution_count": 14,
   "id": "indie-rehabilitation",
   "metadata": {
    "tags": []
   },
   "outputs": [],
   "source": [
    "df_train_clean['Datum_Sin'] = np.sin(df_train_clean[\"Datum_Delta\"] * (2 * np.pi))\n",
    "df_train_clean['Datum_Cos'] = np.cos(df_train_clean[\"Datum_Delta\"] * (2 * np.pi))"
   ]
  },
  {
   "cell_type": "code",
   "execution_count": 15,
   "id": "wrong-refrigerator",
   "metadata": {
    "tags": []
   },
   "outputs": [],
   "source": [
    "def handle_missing_numeric(df, col):\n",
    "    values = []\n",
    "    for c, row in enumerate(df[col]):\n",
    "        if row != \"NA\":\n",
    "            values.append(float(row.strip(\"?\")))\n",
    "        try:\n",
    "            float(row)\n",
    "        except ValueError:\n",
    "            df.loc[c, col] = str(row).strip(\"?\")\n",
    "    df[col] = df[col].replace(\"NA\", str(np.mean(values))).astype(float)\n",
    "    return df"
   ]
  },
  {
   "cell_type": "code",
   "execution_count": 16,
   "id": "announced-technology",
   "metadata": {
    "tags": []
   },
   "outputs": [
    {
     "name": "stderr",
     "output_type": "stream",
     "text": [
      "100%|██████████| 9/9 [00:06<00:00,  1.41it/s]\n"
     ]
    }
   ],
   "source": [
    "for col in tqdm(['SECCI', 'Temperatur', 'Salinität', 'NH4', 'NOx', 'NO2', 'NO3', 'PO4', 'SiO4']):\n",
    "    df_train_clean = handle_missing_numeric(df_train_clean, col)"
   ]
  },
  {
   "cell_type": "code",
   "execution_count": 17,
   "id": "military-graduation",
   "metadata": {
    "tags": []
   },
   "outputs": [],
   "source": [
    "df_train_clean.drop(['Datum', 'Uhrzeit'], axis=1, inplace=True)"
   ]
  },
  {
   "cell_type": "code",
   "execution_count": 18,
   "id": "hourly-stupid",
   "metadata": {
    "tags": []
   },
   "outputs": [],
   "source": [
    "cols = df_train_clean.columns\n",
    "cols = list(cols[-4:])+list(cols[0:-4])"
   ]
  },
  {
   "cell_type": "code",
   "execution_count": 19,
   "id": "numerous-referral",
   "metadata": {
    "tags": []
   },
   "outputs": [],
   "source": [
    "df_train_clean = df_train_clean[cols]"
   ]
  },
  {
   "cell_type": "code",
   "execution_count": 20,
   "id": "literary-pakistan",
   "metadata": {
    "tags": []
   },
   "outputs": [],
   "source": [
    "df_train_clean.to_csv('data_train_additional.csv', index=False)"
   ]
  },
  {
   "cell_type": "code",
   "execution_count": null,
   "id": "bulgarian-planner",
   "metadata": {},
   "outputs": [],
   "source": []
  },
  {
   "cell_type": "markdown",
   "id": "activated-muslim",
   "metadata": {},
   "source": [
    "### Start"
   ]
  },
  {
   "cell_type": "code",
   "execution_count": 21,
   "id": "racial-absorption",
   "metadata": {
    "tags": []
   },
   "outputs": [],
   "source": [
    "import pandas as pd, numpy as np\n",
    "from tqdm import tqdm"
   ]
  },
  {
   "cell_type": "code",
   "execution_count": 22,
   "id": "hired-olive",
   "metadata": {
    "tags": []
   },
   "outputs": [],
   "source": [
    "df_train_clean = pd.read_csv('data_train_additional.csv')"
   ]
  },
  {
   "cell_type": "code",
   "execution_count": null,
   "id": "forward-sight",
   "metadata": {},
   "outputs": [],
   "source": []
  },
  {
   "cell_type": "markdown",
   "id": "looking-commons",
   "metadata": {},
   "source": [
    "### Test"
   ]
  },
  {
   "cell_type": "code",
   "execution_count": 23,
   "id": "bored-conjunction",
   "metadata": {
    "tags": []
   },
   "outputs": [],
   "source": [
    "df_test = pd.read_csv(\"bbdc_2023_AWI_data_evaluate_skeleton_professional.csv\")"
   ]
  },
  {
   "cell_type": "code",
   "execution_count": 24,
   "id": "veterinary-printing",
   "metadata": {
    "tags": []
   },
   "outputs": [],
   "source": [
    "clean_cols = df_test.columns[0].split(';')"
   ]
  },
  {
   "cell_type": "code",
   "execution_count": 25,
   "id": "supreme-forward",
   "metadata": {
    "tags": []
   },
   "outputs": [],
   "source": [
    "test_values = list(map(lambda x: x[0].split(';'), df_test.values))"
   ]
  },
  {
   "cell_type": "code",
   "execution_count": 26,
   "id": "functioning-oxide",
   "metadata": {
    "tags": []
   },
   "outputs": [],
   "source": [
    "df_test_clean = pd.DataFrame(test_values[1:], columns=clean_cols)"
   ]
  },
  {
   "cell_type": "code",
   "execution_count": 27,
   "id": "applicable-anthony",
   "metadata": {
    "tags": []
   },
   "outputs": [],
   "source": [
    "df_test_clean[\"Datum\"] = pd.to_datetime(df_test_clean[\"Datum\"], yearfirst=True, dayfirst=True)"
   ]
  },
  {
   "cell_type": "code",
   "execution_count": 28,
   "id": "unusual-confusion",
   "metadata": {
    "tags": []
   },
   "outputs": [
    {
     "name": "stderr",
     "output_type": "stream",
     "text": [
      "100%|██████████| 1365/1365 [00:00<00:00, 5222.68it/s]\n",
      "/tmp/ipykernel_98938/3943007440.py:11: UserWarning: Could not infer format, so each element will be parsed individually, falling back to `dateutil`. To ensure parsing is consistent and as-expected, please specify a format.\n",
      "  df[\"Uhrzeit\"] = df[\"Uhrzeit\"].replace(\"NA\", pd.to_datetime(values).mean())\n",
      "/tmp/ipykernel_98938/3943007440.py:12: UserWarning: Could not infer format, so each element will be parsed individually, falling back to `dateutil`. To ensure parsing is consistent and as-expected, please specify a format.\n",
      "  df[\"Uhrzeit\"] = pd.to_datetime(df[\"Uhrzeit\"], yearfirst=True, dayfirst=True)\n"
     ]
    }
   ],
   "source": [
    "df_test_clean = handle_time(df_test_clean)"
   ]
  },
  {
   "cell_type": "code",
   "execution_count": 29,
   "id": "entire-decline",
   "metadata": {
    "tags": []
   },
   "outputs": [],
   "source": [
    "df_test_clean[\"Datum_Delta\"] = (df_test_clean['Datum'] - min_date)  / np.timedelta64(1,'Y')"
   ]
  },
  {
   "cell_type": "code",
   "execution_count": 30,
   "id": "patient-helping",
   "metadata": {
    "tags": []
   },
   "outputs": [],
   "source": [
    "df_test_clean[\"Uhrzeit_Delta\"] = (df_test_clean['Uhrzeit'] - min_time)  / np.timedelta64(1,'h')"
   ]
  },
  {
   "cell_type": "code",
   "execution_count": 31,
   "id": "nearby-therapist",
   "metadata": {
    "tags": []
   },
   "outputs": [],
   "source": [
    "df_test_clean['Datum_Sin'] = np.sin(df_test_clean[\"Datum_Delta\"] * (2 * np.pi))\n",
    "df_test_clean['Datum_Cos'] = np.cos(df_test_clean[\"Datum_Delta\"] * (2 * np.pi))"
   ]
  },
  {
   "cell_type": "code",
   "execution_count": 32,
   "id": "remarkable-africa",
   "metadata": {
    "tags": []
   },
   "outputs": [],
   "source": [
    "cols = df_test_clean.columns\n",
    "cols = list(cols[-4:])+list(cols[0:-4])\n",
    "df_test_clean = df_test_clean[cols]"
   ]
  },
  {
   "cell_type": "code",
   "execution_count": 33,
   "id": "twenty-arbor",
   "metadata": {
    "tags": []
   },
   "outputs": [],
   "source": [
    "df_test_clean.drop(['Datum', 'Uhrzeit'], axis=1, inplace=True)"
   ]
  },
  {
   "cell_type": "code",
   "execution_count": 34,
   "id": "blessed-origin",
   "metadata": {
    "tags": []
   },
   "outputs": [],
   "source": [
    "df_test_clean.to_csv(\"data_test_additional.csv\", index=False)"
   ]
  },
  {
   "cell_type": "code",
   "execution_count": null,
   "id": "eb0b9e0b-43d8-4a30-9564-4568f1d2ee49",
   "metadata": {},
   "outputs": [],
   "source": []
  }
 ],
 "metadata": {
  "kernelspec": {
   "display_name": "jk-win",
   "language": "python",
   "name": "jk-win"
  },
  "language_info": {
   "codemirror_mode": {
    "name": "ipython",
    "version": 3
   },
   "file_extension": ".py",
   "mimetype": "text/x-python",
   "name": "python",
   "nbconvert_exporter": "python",
   "pygments_lexer": "ipython3",
   "version": "3.8.16"
  }
 },
 "nbformat": 4,
 "nbformat_minor": 5
}
